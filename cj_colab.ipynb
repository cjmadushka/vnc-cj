{
  "nbformat": 4,
  "nbformat_minor": 0,
  "metadata": {
    "colab": {
      "name": "cj_colab.ipynb",
      "provenance": [],
      "collapsed_sections": []
    },
    "kernelspec": {
      "name": "python3",
      "display_name": "Python 3"
    },
    "accelerator": "GPU"
  },
  "cells": [
    {
      "cell_type": "markdown",
      "metadata": {
        "id": "yHZlCGfqaNRr"
      },
      "source": [
        "# **<font color='blue'> Created by [CJ](https://github.com/cjmadushka) </font>**"
      ]
    },
    {
      "cell_type": "code",
      "metadata": {
        "id": "EV5Y2Xh6PR7D"
      },
      "source": [
        "!pip install git+https://github.com/cjmadushka/vnc-cj.git\n",
        "import remocolab\n",
        "remocolab.setupVNC()"
      ],
      "execution_count": null,
      "outputs": []
    }
  ]
}